{
 "cells": [
  {
   "cell_type": "markdown",
   "id": "9f278948-02a4-4d22-8e8d-c9091041e5f8",
   "metadata": {},
   "source": [
    "# Лабораторная работа № 2. "
   ]
  },
  {
   "cell_type": "markdown",
   "id": "3fa27eb3-90f0-4b2b-b4cb-ee9c4250f9b8",
   "metadata": {},
   "source": [
    "Выполнил: Кайдалова Александра Андреевна, М8О-312Б-22"
   ]
  },
  {
   "cell_type": "code",
   "execution_count": 437,
   "id": "45c87748-1c23-40de-8ab9-176281257714",
   "metadata": {},
   "outputs": [],
   "source": [
    "import numpy as np\n",
    "import pandas as pd\n",
    "import matplotlib.pyplot as plt\n",
    "import seaborn as sns"
   ]
  },
  {
   "cell_type": "markdown",
   "id": "df24cc95-bee4-4260-beb0-692ffd77cb24",
   "metadata": {},
   "source": [
    "### 1. Загрузка и анализ данных."
   ]
  },
  {
   "cell_type": "code",
   "execution_count": 438,
   "id": "721a4e0d-2c7e-48e5-9aa3-6980cf181d23",
   "metadata": {},
   "outputs": [],
   "source": [
    "train_data = pd.read_csv('train.csv')"
   ]
  },
  {
   "cell_type": "code",
   "execution_count": 439,
   "id": "aa319577-2d66-440d-9505-ab111f0c3989",
   "metadata": {},
   "outputs": [
    {
     "data": {
      "text/html": [
       "<div>\n",
       "<style scoped>\n",
       "    .dataframe tbody tr th:only-of-type {\n",
       "        vertical-align: middle;\n",
       "    }\n",
       "\n",
       "    .dataframe tbody tr th {\n",
       "        vertical-align: top;\n",
       "    }\n",
       "\n",
       "    .dataframe thead th {\n",
       "        text-align: right;\n",
       "    }\n",
       "</style>\n",
       "<table border=\"1\" class=\"dataframe\">\n",
       "  <thead>\n",
       "    <tr style=\"text-align: right;\">\n",
       "      <th></th>\n",
       "      <th>id</th>\n",
       "      <th>vendor_id</th>\n",
       "      <th>pickup_datetime</th>\n",
       "      <th>dropoff_datetime</th>\n",
       "      <th>passenger_count</th>\n",
       "      <th>pickup_longitude</th>\n",
       "      <th>pickup_latitude</th>\n",
       "      <th>dropoff_longitude</th>\n",
       "      <th>dropoff_latitude</th>\n",
       "      <th>store_and_fwd_flag</th>\n",
       "      <th>trip_duration</th>\n",
       "    </tr>\n",
       "  </thead>\n",
       "  <tbody>\n",
       "    <tr>\n",
       "      <th>0</th>\n",
       "      <td>id2209155</td>\n",
       "      <td>2</td>\n",
       "      <td>2016-05-03 09:03:08</td>\n",
       "      <td>2016-05-03 09:17:12</td>\n",
       "      <td>2</td>\n",
       "      <td>-73.979813</td>\n",
       "      <td>40.752529</td>\n",
       "      <td>-73.982681</td>\n",
       "      <td>40.763680</td>\n",
       "      <td>N</td>\n",
       "      <td>844</td>\n",
       "    </tr>\n",
       "    <tr>\n",
       "      <th>1</th>\n",
       "      <td>id0586605</td>\n",
       "      <td>1</td>\n",
       "      <td>2016-01-01 16:40:51</td>\n",
       "      <td>2016-01-01 16:57:32</td>\n",
       "      <td>1</td>\n",
       "      <td>-73.977623</td>\n",
       "      <td>40.746296</td>\n",
       "      <td>-73.968414</td>\n",
       "      <td>40.788933</td>\n",
       "      <td>N</td>\n",
       "      <td>1001</td>\n",
       "    </tr>\n",
       "    <tr>\n",
       "      <th>2</th>\n",
       "      <td>id0467144</td>\n",
       "      <td>1</td>\n",
       "      <td>2016-04-24 13:57:03</td>\n",
       "      <td>2016-04-24 14:14:31</td>\n",
       "      <td>1</td>\n",
       "      <td>-73.950699</td>\n",
       "      <td>40.779404</td>\n",
       "      <td>-73.863129</td>\n",
       "      <td>40.768608</td>\n",
       "      <td>N</td>\n",
       "      <td>1048</td>\n",
       "    </tr>\n",
       "    <tr>\n",
       "      <th>3</th>\n",
       "      <td>id0989010</td>\n",
       "      <td>2</td>\n",
       "      <td>2016-01-10 17:03:47</td>\n",
       "      <td>2016-01-10 17:16:51</td>\n",
       "      <td>1</td>\n",
       "      <td>-73.984558</td>\n",
       "      <td>40.721802</td>\n",
       "      <td>-73.976753</td>\n",
       "      <td>40.752213</td>\n",
       "      <td>N</td>\n",
       "      <td>784</td>\n",
       "    </tr>\n",
       "    <tr>\n",
       "      <th>4</th>\n",
       "      <td>id0580742</td>\n",
       "      <td>1</td>\n",
       "      <td>2016-02-25 17:37:36</td>\n",
       "      <td>2016-02-25 17:49:48</td>\n",
       "      <td>1</td>\n",
       "      <td>-73.967720</td>\n",
       "      <td>40.768742</td>\n",
       "      <td>-73.977173</td>\n",
       "      <td>40.789875</td>\n",
       "      <td>N</td>\n",
       "      <td>732</td>\n",
       "    </tr>\n",
       "  </tbody>\n",
       "</table>\n",
       "</div>"
      ],
      "text/plain": [
       "          id  vendor_id      pickup_datetime     dropoff_datetime  \\\n",
       "0  id2209155          2  2016-05-03 09:03:08  2016-05-03 09:17:12   \n",
       "1  id0586605          1  2016-01-01 16:40:51  2016-01-01 16:57:32   \n",
       "2  id0467144          1  2016-04-24 13:57:03  2016-04-24 14:14:31   \n",
       "3  id0989010          2  2016-01-10 17:03:47  2016-01-10 17:16:51   \n",
       "4  id0580742          1  2016-02-25 17:37:36  2016-02-25 17:49:48   \n",
       "\n",
       "   passenger_count  pickup_longitude  pickup_latitude  dropoff_longitude  \\\n",
       "0                2        -73.979813        40.752529         -73.982681   \n",
       "1                1        -73.977623        40.746296         -73.968414   \n",
       "2                1        -73.950699        40.779404         -73.863129   \n",
       "3                1        -73.984558        40.721802         -73.976753   \n",
       "4                1        -73.967720        40.768742         -73.977173   \n",
       "\n",
       "   dropoff_latitude store_and_fwd_flag  trip_duration  \n",
       "0         40.763680                  N            844  \n",
       "1         40.788933                  N           1001  \n",
       "2         40.768608                  N           1048  \n",
       "3         40.752213                  N            784  \n",
       "4         40.789875                  N            732  "
      ]
     },
     "execution_count": 439,
     "metadata": {},
     "output_type": "execute_result"
    }
   ],
   "source": [
    "train_data.head()"
   ]
  },
  {
   "cell_type": "code",
   "execution_count": 440,
   "id": "9b602f01-462c-439b-9fec-afbae80a25df",
   "metadata": {},
   "outputs": [
    {
     "name": "stdout",
     "output_type": "stream",
     "text": [
      "<class 'pandas.core.frame.DataFrame'>\n",
      "RangeIndex: 1021050 entries, 0 to 1021049\n",
      "Data columns (total 11 columns):\n",
      " #   Column              Non-Null Count    Dtype  \n",
      "---  ------              --------------    -----  \n",
      " 0   id                  1021050 non-null  object \n",
      " 1   vendor_id           1021050 non-null  int64  \n",
      " 2   pickup_datetime     1021050 non-null  object \n",
      " 3   dropoff_datetime    1021050 non-null  object \n",
      " 4   passenger_count     1021050 non-null  int64  \n",
      " 5   pickup_longitude    1021050 non-null  float64\n",
      " 6   pickup_latitude     1021050 non-null  float64\n",
      " 7   dropoff_longitude   1021050 non-null  float64\n",
      " 8   dropoff_latitude    1021050 non-null  float64\n",
      " 9   store_and_fwd_flag  1021050 non-null  object \n",
      " 10  trip_duration       1021050 non-null  int64  \n",
      "dtypes: float64(4), int64(3), object(4)\n",
      "memory usage: 85.7+ MB\n"
     ]
    }
   ],
   "source": [
    "train_data.info()"
   ]
  },
  {
   "cell_type": "markdown",
   "id": "ff41291f-675d-4bff-9c8e-82e14bdf502f",
   "metadata": {},
   "source": [
    "Из выведенной информации видно, что **значений NAN в данных нет**. (Так как столбец Non-Null Count отвечает за количество непустых значений в каждом столбце, а RangeIndex показывает общее количество записей)."
   ]
  },
  {
   "cell_type": "markdown",
   "id": "f9d34447-a218-478a-ae91-24a4c14cd95e",
   "metadata": {},
   "source": [
    "### 2. Работа с выбросами."
   ]
  },
  {
   "cell_type": "markdown",
   "id": "c585c472-2f0a-45f3-b055-a10a1aee6430",
   "metadata": {},
   "source": [
    "Посмотрим, есть ли выбросы в длительности поездок с помощью ящика с усами:"
   ]
  },
  {
   "cell_type": "code",
   "execution_count": 441,
   "id": "d0d94724-e8ed-48a4-a4a6-a549a58b45ba",
   "metadata": {},
   "outputs": [
    {
     "data": {
      "image/png": "[encoded data removed]",
      "text/plain": [
       "<Figure size 800x600 with 1 Axes>"
      ]
     },
     "metadata": {},
     "output_type": "display_data"
    }
   ],
   "source": [
    "plt.figure(figsize = (8, 6))\n",
    "plt.boxplot(train_data['trip_duration'], labels = ['Без обработки выбросов'], showmeans = True, showfliers = True)\n",
    "plt.ylabel('Продолжительность поездки (секунды)')\n",
    "plt.title('Ящик с усами для длительности поездок')\n",
    "plt.show()"
   ]
  },
  {
   "cell_type": "markdown",
   "id": "70052666-a2b0-475b-b983-4b3bc7441b10",
   "metadata": {},
   "source": [
    "Видим, что выбросы есть. Они представлены в виде кружков."
   ]
  },
  {
   "cell_type": "markdown",
   "id": "8f082cb2-94ab-4bfb-8fa1-4622d282fbcf",
   "metadata": {},
   "source": [
    "Очистим данные от выбросов. **Использую метод IQR (межквартильный размах)**:"
   ]
  },
  {
   "cell_type": "code",
   "execution_count": 442,
   "id": "96df51be-9409-4c6b-803d-d5533fba716d",
   "metadata": {},
   "outputs": [
    {
     "name": "stdout",
     "output_type": "stream",
     "text": [
      "678.0 397.0 1075.0\n"
     ]
    }
   ],
   "source": [
    "Q1 = train_data['trip_duration'].quantile(0.25)\n",
    "Q3 = train_data['trip_duration'].quantile(0.75)\n",
    "IQR = Q3 - Q1\n",
    "print(IQR, Q1, Q3)"
   ]
  },
  {
   "cell_type": "markdown",
   "id": "cb141c96-5173-4862-8c34-6811af50af45",
   "metadata": {},
   "source": [
    "Условия для фильтрации выбросов:"
   ]
  },
  {
   "cell_type": "code",
   "execution_count": 443,
   "id": "e9162772-5b70-4137-a012-ac55fd6843f8",
   "metadata": {},
   "outputs": [
    {
     "name": "stdout",
     "output_type": "stream",
     "text": [
      "-620.0 2092.0\n"
     ]
    }
   ],
   "source": [
    "lower_bound = Q1 - 1.5 * IQR\n",
    "upper_bound = Q3 + 1.5 * IQR\n",
    "print(lower_bound, upper_bound)"
   ]
  },
  {
   "cell_type": "markdown",
   "id": "e1332965-b004-4564-bf06-73c05378d334",
   "metadata": {},
   "source": [
    "Фильтрация данных:"
   ]
  },
  {
   "cell_type": "code",
   "execution_count": 444,
   "id": "4898f326-52f8-468e-8e89-8c8cd4285ad0",
   "metadata": {},
   "outputs": [
    {
     "name": "stdout",
     "output_type": "stream",
     "text": [
      "Количество строк после очистки: 969100\n"
     ]
    }
   ],
   "source": [
    "train_data = train_data[(train_data['trip_duration'] >= lower_bound) & (train_data['trip_duration'] <= upper_bound)]\n",
    "print(f'Количество строк после очистки: {train_data.shape[0]}')"
   ]
  },
  {
   "cell_type": "markdown",
   "id": "e35d3520-8f33-4ea3-bcbc-01fbe8947098",
   "metadata": {},
   "source": [
    "Количество строк уменьшилось, значит очистка прошла успешно. Убедимся в этом:"
   ]
  },
  {
   "cell_type": "code",
   "execution_count": 445,
   "id": "54423a0d-0a8b-41cb-b341-22b0f76d7813",
   "metadata": {},
   "outputs": [
    {
     "data": {
      "text/html": [
       "<div>\n",
       "<style scoped>\n",
       "    .dataframe tbody tr th:only-of-type {\n",
       "        vertical-align: middle;\n",
       "    }\n",
       "\n",
       "    .dataframe tbody tr th {\n",
       "        vertical-align: top;\n",
       "    }\n",
       "\n",
       "    .dataframe thead th {\n",
       "        text-align: right;\n",
       "    }\n",
       "</style>\n",
       "<table border=\"1\" class=\"dataframe\">\n",
       "  <thead>\n",
       "    <tr style=\"text-align: right;\">\n",
       "      <th></th>\n",
       "      <th>id</th>\n",
       "      <th>vendor_id</th>\n",
       "      <th>pickup_datetime</th>\n",
       "      <th>dropoff_datetime</th>\n",
       "      <th>passenger_count</th>\n",
       "      <th>pickup_longitude</th>\n",
       "      <th>pickup_latitude</th>\n",
       "      <th>dropoff_longitude</th>\n",
       "      <th>dropoff_latitude</th>\n",
       "      <th>store_and_fwd_flag</th>\n",
       "      <th>trip_duration</th>\n",
       "    </tr>\n",
       "  </thead>\n",
       "  <tbody>\n",
       "    <tr>\n",
       "      <th>0</th>\n",
       "      <td>id2209155</td>\n",
       "      <td>2</td>\n",
       "      <td>2016-05-03 09:03:08</td>\n",
       "      <td>2016-05-03 09:17:12</td>\n",
       "      <td>2</td>\n",
       "      <td>-73.979813</td>\n",
       "      <td>40.752529</td>\n",
       "      <td>-73.982681</td>\n",
       "      <td>40.763680</td>\n",
       "      <td>N</td>\n",
       "      <td>844</td>\n",
       "    </tr>\n",
       "    <tr>\n",
       "      <th>1</th>\n",
       "      <td>id0586605</td>\n",
       "      <td>1</td>\n",
       "      <td>2016-01-01 16:40:51</td>\n",
       "      <td>2016-01-01 16:57:32</td>\n",
       "      <td>1</td>\n",
       "      <td>-73.977623</td>\n",
       "      <td>40.746296</td>\n",
       "      <td>-73.968414</td>\n",
       "      <td>40.788933</td>\n",
       "      <td>N</td>\n",
       "      <td>1001</td>\n",
       "    </tr>\n",
       "    <tr>\n",
       "      <th>2</th>\n",
       "      <td>id0467144</td>\n",
       "      <td>1</td>\n",
       "      <td>2016-04-24 13:57:03</td>\n",
       "      <td>2016-04-24 14:14:31</td>\n",
       "      <td>1</td>\n",
       "      <td>-73.950699</td>\n",
       "      <td>40.779404</td>\n",
       "      <td>-73.863129</td>\n",
       "      <td>40.768608</td>\n",
       "      <td>N</td>\n",
       "      <td>1048</td>\n",
       "    </tr>\n",
       "    <tr>\n",
       "      <th>3</th>\n",
       "      <td>id0989010</td>\n",
       "      <td>2</td>\n",
       "      <td>2016-01-10 17:03:47</td>\n",
       "      <td>2016-01-10 17:16:51</td>\n",
       "      <td>1</td>\n",
       "      <td>-73.984558</td>\n",
       "      <td>40.721802</td>\n",
       "      <td>-73.976753</td>\n",
       "      <td>40.752213</td>\n",
       "      <td>N</td>\n",
       "      <td>784</td>\n",
       "    </tr>\n",
       "    <tr>\n",
       "      <th>4</th>\n",
       "      <td>id0580742</td>\n",
       "      <td>1</td>\n",
       "      <td>2016-02-25 17:37:36</td>\n",
       "      <td>2016-02-25 17:49:48</td>\n",
       "      <td>1</td>\n",
       "      <td>-73.967720</td>\n",
       "      <td>40.768742</td>\n",
       "      <td>-73.977173</td>\n",
       "      <td>40.789875</td>\n",
       "      <td>N</td>\n",
       "      <td>732</td>\n",
       "    </tr>\n",
       "  </tbody>\n",
       "</table>\n",
       "</div>"
      ],
      "text/plain": [
       "          id  vendor_id      pickup_datetime     dropoff_datetime  \\\n",
       "0  id2209155          2  2016-05-03 09:03:08  2016-05-03 09:17:12   \n",
       "1  id0586605          1  2016-01-01 16:40:51  2016-01-01 16:57:32   \n",
       "2  id0467144          1  2016-04-24 13:57:03  2016-04-24 14:14:31   \n",
       "3  id0989010          2  2016-01-10 17:03:47  2016-01-10 17:16:51   \n",
       "4  id0580742          1  2016-02-25 17:37:36  2016-02-25 17:49:48   \n",
       "\n",
       "   passenger_count  pickup_longitude  pickup_latitude  dropoff_longitude  \\\n",
       "0                2        -73.979813        40.752529         -73.982681   \n",
       "1                1        -73.977623        40.746296         -73.968414   \n",
       "2                1        -73.950699        40.779404         -73.863129   \n",
       "3                1        -73.984558        40.721802         -73.976753   \n",
       "4                1        -73.967720        40.768742         -73.977173   \n",
       "\n",
       "   dropoff_latitude store_and_fwd_flag  trip_duration  \n",
       "0         40.763680                  N            844  \n",
       "1         40.788933                  N           1001  \n",
       "2         40.768608                  N           1048  \n",
       "3         40.752213                  N            784  \n",
       "4         40.789875                  N            732  "
      ]
     },
     "execution_count": 445,
     "metadata": {},
     "output_type": "execute_result"
    }
   ],
   "source": [
    "train_data.head()"
   ]
  },
  {
   "cell_type": "code",
   "execution_count": 446,
   "id": "7383bc21-725a-40a7-bce8-8fbad1c21b2f",
   "metadata": {},
   "outputs": [
    {
     "data": {
      "image/png": "[encoded data removed]",
      "text/plain": [
       "<Figure size 800x600 with 1 Axes>"
      ]
     },
     "metadata": {},
     "output_type": "display_data"
    }
   ],
   "source": [
    "plt.figure(figsize = (8, 6))\n",
    "plt.boxplot(train_data['trip_duration'], labels = ['После обработки выбросов'], showmeans = True, showfliers = True, patch_artist = True)\n",
    "plt.ylabel('Продолжительность поездки (секунды)')\n",
    "plt.title('Ящик с усами для длительности поездок')\n",
    "plt.show()"
   ]
  },
  {
   "cell_type": "markdown",
   "id": "393c547c-8c86-478c-b864-545d1e7438e4",
   "metadata": {},
   "source": [
    "Как видим, мы избавились от большинства выбросов. Выбросим остатки:"
   ]
  },
  {
   "cell_type": "code",
   "execution_count": 447,
   "id": "1a16a6b3-8063-4f50-ae40-129ec34bf26d",
   "metadata": {},
   "outputs": [
    {
     "name": "stdout",
     "output_type": "stream",
     "text": [
      "Процент count1 от count2: 2.83%\n"
     ]
    }
   ],
   "source": [
    "count1 = len(train_data[train_data['trip_duration'] >= 1800])\n",
    "count2 = len(train_data['trip_duration'])\n",
    "pr =  (count1 / count2) * 100\n",
    "\n",
    "print(f\"Процент count1 от count2: {pr:.2f}%\")"
   ]
  },
  {
   "cell_type": "markdown",
   "id": "32b74111-a25f-4e44-bee6-434e0afd7a6a",
   "metadata": {},
   "source": [
    "Значит, выбросы можно просто удалить:"
   ]
  },
  {
   "cell_type": "code",
   "execution_count": 448,
   "id": "2dec8116-aeb8-4027-bfa1-6b08a6c6896b",
   "metadata": {},
   "outputs": [],
   "source": [
    "train_data = train_data[train_data['trip_duration'] < 1800]"
   ]
  },
  {
   "cell_type": "code",
   "execution_count": 449,
   "id": "ce7491a8-3ff4-4d18-8957-c6fea9205fbd",
   "metadata": {},
   "outputs": [
    {
     "data": {
      "image/png": "[encoded data removed]",
      "text/plain": [
       "<Figure size 800x600 with 1 Axes>"
      ]
     },
     "metadata": {},
     "output_type": "display_data"
    }
   ],
   "source": [
    "plt.figure(figsize = (8, 6))\n",
    "plt.boxplot(train_data['trip_duration'], labels = ['После обработки выбросов'], showmeans = True, showfliers = True, patch_artist = True)\n",
    "plt.ylabel('Продолжительность поездки (секунды)')\n",
    "plt.title('Ящик с усами для длительности поездок')\n",
    "plt.show()"
   ]
  },
  {
   "cell_type": "markdown",
   "id": "3692273f-af4d-4a11-9e41-26d27c314713",
   "metadata": {},
   "source": [
    "Отлично! Выбросов больше нет."
   ]
  },
  {
   "cell_type": "markdown",
   "id": "77076e89-e9b1-4e74-88ef-91b19c1cb433",
   "metadata": {},
   "source": [
    "### 3. Преобразование столбцов."
   ]
  },
  {
   "cell_type": "markdown",
   "id": "6723e465-392d-4d43-925a-96588af9990c",
   "metadata": {},
   "source": [
    "Посмотрим на некоторые другие графики:"
   ]
  },
  {
   "cell_type": "code",
   "execution_count": 450,
   "id": "9e281029-df53-42ce-a700-9ad9cece015f",
   "metadata": {},
   "outputs": [
    {
     "data": {
      "image/png": "[encoded data removed]",
      "text/plain": [
       "<Figure size 1000x600 with 1 Axes>"
      ]
     },
     "metadata": {},
     "output_type": "display_data"
    }
   ],
   "source": [
    "plt.figure(figsize = (10, 6))\n",
    "plt.hist(train_data['trip_duration'], bins = 50, color = 'purple', edgecolor = 'black')\n",
    "plt.xlabel('Продолжительность поездки (секунды)')\n",
    "plt.ylabel('Количество поездок')\n",
    "plt.title('Гистограмма для времени поездки')\n",
    "plt.show()"
   ]
  },
  {
   "cell_type": "markdown",
   "id": "bb18627b-1522-40c7-8647-32ded506ba7b",
   "metadata": {},
   "source": [
    "Видим, что больше всего поездок совершается длительностью около 350 секунд (5.9 минут)."
   ]
  },
  {
   "cell_type": "code",
   "execution_count": 451,
   "id": "30e7c91a-6227-43e2-9f96-79c639e682fb",
   "metadata": {},
   "outputs": [
    {
     "data": {
      "image/png": "[encoded data removed]",
      "text/plain": [
       "<Figure size 1000x600 with 1 Axes>"
      ]
     },
     "metadata": {},
     "output_type": "display_data"
    }
   ],
   "source": [
    "plt.figure(figsize = (10, 6))\n",
    "plt.scatter(train_data['passenger_count'], train_data['trip_duration'],  color = 'skyblue')\n",
    "plt.xlabel('Количество пассажиров')\n",
    "plt.ylabel('Продолжительность поездки (секунды)')\n",
    "plt.title('Диаграмма рассеяния зависимости продолжительности поездки от количества пассажиров ')\n",
    "plt.show()"
   ]
  },
  {
   "cell_type": "markdown",
   "id": "d99e9dbe-081e-4a90-87a1-e86ec10bcf56",
   "metadata": {},
   "source": [
    "Видим, что число пассажиров варьируется от 0 до 9. Больше всего поездки совершаются с числом пассажиров от 1 до 6 человек. "
   ]
  },
  {
   "cell_type": "code",
   "execution_count": 452,
   "id": "95a49a58-acac-4490-ac69-a20abd0f3b6d",
   "metadata": {},
   "outputs": [
    {
     "data": {
      "image/png": "[encoded data removed]",
      "text/plain": [
       "<Figure size 1000x600 with 1 Axes>"
      ]
     },
     "metadata": {},
     "output_type": "display_data"
    }
   ],
   "source": [
    "plt.figure(figsize = (10, 6))\n",
    "plt.scatter(train_data[\"pickup_longitude\"], train_data[\"pickup_latitude\"], s = 10, c = 'blue', label = 'Начало поездки')\n",
    "plt.scatter(train_data[\"dropoff_longitude\"], train_data[\"dropoff_latitude\"], s = 10, c = 'red', label = 'Конец поездки')\n",
    "\n",
    "plt.xlabel(\"Долгота\")\n",
    "plt.ylabel(\"Широта\")\n",
    "plt.legend()\n",
    "plt.show()"
   ]
  },
  {
   "cell_type": "markdown",
   "id": "54cf3682-6ad9-457c-be88-55ea6760e5b4",
   "metadata": {},
   "source": [
    "Видим, что в основном поездки совершаются в пределах: от 32.5 до 45.0 широты и от -80 до -60 долготы. "
   ]
  },
  {
   "cell_type": "markdown",
   "id": "4b433f05-d415-46fa-b0c7-87b01e1c7a50",
   "metadata": {},
   "source": [
    "Теперь посмотрим на vendor_id:"
   ]
  },
  {
   "cell_type": "code",
   "execution_count": 453,
   "id": "7db5bb40-ca24-4511-9a1c-26be5abeadac",
   "metadata": {},
   "outputs": [
    {
     "name": "stdout",
     "output_type": "stream",
     "text": [
      "Количество уникальных vendor_id: 2\n",
      "Уникальные vendor_id: [2 1]\n"
     ]
    }
   ],
   "source": [
    "unique_vendor_ids = train_data['vendor_id'].unique()\n",
    "\n",
    "print(f\"Количество уникальных vendor_id: {len(unique_vendor_ids)}\")\n",
    "print(f\"Уникальные vendor_id: {unique_vendor_ids}\")"
   ]
  },
  {
   "cell_type": "markdown",
   "id": "5419e7aa-1825-466d-be04-d36b0a7bac20",
   "metadata": {},
   "source": [
    "Значит, попробуем найти зависимость длительности поездки от vendor_id:"
   ]
  },
  {
   "cell_type": "code",
   "execution_count": 454,
   "id": "0008256c-3b69-4fa4-81a4-69084dcdfc7f",
   "metadata": {},
   "outputs": [
    {
     "data": {
      "image/png": "[encoded data removed]",
      "text/plain": [
       "<Figure size 1000x600 with 1 Axes>"
      ]
     },
     "metadata": {},
     "output_type": "display_data"
    }
   ],
   "source": [
    "plt.figure(figsize = (10, 6))\n",
    "plt.boxplot([train_data[train_data['vendor_id'] == 1]['trip_duration'],\n",
    "       train_data[train_data['vendor_id'] == 2]['trip_duration']],\n",
    "      labels=['Vendor 1', 'Vendor 2'])\n",
    "\n",
    "plt.xlabel('Vendor ID')\n",
    "plt.ylabel('Длительность поездки (секунды)')\n",
    "plt.title('Зависимость длительности поездки от Vendor ID')\n",
    "plt.show()"
   ]
  },
  {
   "cell_type": "markdown",
   "id": "bd36a054-0181-4176-9257-5242aff33b1b",
   "metadata": {},
   "source": [
    "Так как из графика видно, что от агрегатора длительность поездки не зависит, то удалю из данных столбец vendor_id. Также удалю id, так как он также не влияет на длительность поездки:"
   ]
  },
  {
   "cell_type": "code",
   "execution_count": 455,
   "id": "1a8a891c-fbf0-4c25-afe4-b94a007efc94",
   "metadata": {},
   "outputs": [],
   "source": [
    "train_data = train_data.drop(columns = ['id', 'vendor_id'])"
   ]
  },
  {
   "cell_type": "markdown",
   "id": "f300c909-5876-431b-addc-8b968736c4d0",
   "metadata": {},
   "source": [
    "Преобразую данные из столбцов pickup_datetime, dropoff_datetime в отдельные признаки:"
   ]
  },
  {
   "cell_type": "code",
   "execution_count": 456,
   "id": "a09ae52c-8315-48cb-a6e9-4ceeb134a804",
   "metadata": {},
   "outputs": [],
   "source": [
    "train_data['pickup_datetime'] = pd.to_datetime(train_data['pickup_datetime'])\n",
    "train_data['dropoff_datetime'] = pd.to_datetime(train_data['dropoff_datetime'])"
   ]
  },
  {
   "cell_type": "markdown",
   "id": "cd164397-0e99-4783-afbd-7063870ff456",
   "metadata": {},
   "source": [
    "Из pickup_datetime я возьму: год, месяц, день, час, минуты, секунды."
   ]
  },
  {
   "cell_type": "code",
   "execution_count": 457,
   "id": "cd3590ea-f020-41f5-86f1-12916f02ee33",
   "metadata": {},
   "outputs": [],
   "source": [
    "train_data['pickup_year'] = train_data['pickup_datetime'].dt.year\n",
    "train_data['pickup_month'] = train_data['pickup_datetime'].dt.month\n",
    "train_data['pickup_day'] = train_data['pickup_datetime'].dt.day\n",
    "train_data['pickup_hour'] = train_data['pickup_datetime'].dt.hour\n",
    "train_data['pickup_minute'] = train_data['pickup_datetime'].dt.minute\n",
    "train_data['pickup_second'] = train_data['pickup_datetime'].dt.second"
   ]
  },
  {
   "cell_type": "markdown",
   "id": "c4c50adb-6e91-4d77-bd29-5b6f82f710b2",
   "metadata": {},
   "source": [
    "Проверим, какое количество разных годов встречается в данных:"
   ]
  },
  {
   "cell_type": "code",
   "execution_count": 458,
   "id": "c085905e-e0dc-4c5c-962b-ffa0ef8f025d",
   "metadata": {},
   "outputs": [
    {
     "name": "stdout",
     "output_type": "stream",
     "text": [
      "В столбце 'pickup_year' встречается 1 уникальных годов.\n"
     ]
    }
   ],
   "source": [
    "unique_years = train_data['pickup_year'].nunique()\n",
    "print(f\"В столбце 'pickup_year' встречается {unique_years} уникальных годов.\")"
   ]
  },
  {
   "cell_type": "markdown",
   "id": "38b7366f-2247-4775-836b-9a9cb7749c2b",
   "metadata": {},
   "source": [
    "Значит, этот признак можем удалить, он не влияет на длительность поездки:"
   ]
  },
  {
   "cell_type": "code",
   "execution_count": 459,
   "id": "415604a9-0be4-4947-8f94-a077e61e5cc3",
   "metadata": {},
   "outputs": [],
   "source": [
    "train_data = train_data.drop(columns = ['pickup_year'])"
   ]
  },
  {
   "cell_type": "markdown",
   "id": "870ce1a8-30d3-43a5-9a4f-3b5d40947f70",
   "metadata": {},
   "source": [
    "Из dropoff_datetime я возьму: час, минуты, секунды (так как мы выяснили, что год один, а месяц и день будут дублироваться в pickup_datetime)."
   ]
  },
  {
   "cell_type": "code",
   "execution_count": 460,
   "id": "f0c3558d-b004-4391-a190-6fa9e710f8f4",
   "metadata": {},
   "outputs": [],
   "source": [
    "train_data['dropoff_hour'] = train_data['dropoff_datetime'].dt.hour\n",
    "train_data['dropoff_minute'] = train_data['dropoff_datetime'].dt.minute\n",
    "train_data['dropoff_second'] = train_data['dropoff_datetime'].dt.second"
   ]
  },
  {
   "cell_type": "markdown",
   "id": "bc68269c-4ebb-4f99-ad44-27790af982a8",
   "metadata": {},
   "source": [
    "Удаляю преобразованние столбцы:"
   ]
  },
  {
   "cell_type": "code",
   "execution_count": 461,
   "id": "1d2fe1a4-8efd-419d-9370-b05985733409",
   "metadata": {},
   "outputs": [],
   "source": [
    "train_data = train_data.drop(columns = ['pickup_datetime', 'dropoff_datetime'])"
   ]
  },
  {
   "cell_type": "markdown",
   "id": "014ce460-819b-4c03-b888-067c528daed8",
   "metadata": {},
   "source": [
    "Посмотрим, как мы преобразовали данные:"
   ]
  },
  {
   "cell_type": "code",
   "execution_count": 462,
   "id": "3b87d315-2342-44bd-acc3-64a9e2c3cb28",
   "metadata": {},
   "outputs": [
    {
     "data": {
      "text/html": [
       "<div>\n",
       "<style scoped>\n",
       "    .dataframe tbody tr th:only-of-type {\n",
       "        vertical-align: middle;\n",
       "    }\n",
       "\n",
       "    .dataframe tbody tr th {\n",
       "        vertical-align: top;\n",
       "    }\n",
       "\n",
       "    .dataframe thead th {\n",
       "        text-align: right;\n",
       "    }\n",
       "</style>\n",
       "<table border=\"1\" class=\"dataframe\">\n",
       "  <thead>\n",
       "    <tr style=\"text-align: right;\">\n",
       "      <th></th>\n",
       "      <th>passenger_count</th>\n",
       "      <th>pickup_longitude</th>\n",
       "      <th>pickup_latitude</th>\n",
       "      <th>dropoff_longitude</th>\n",
       "      <th>dropoff_latitude</th>\n",
       "      <th>store_and_fwd_flag</th>\n",
       "      <th>trip_duration</th>\n",
       "      <th>pickup_month</th>\n",
       "      <th>pickup_day</th>\n",
       "      <th>pickup_hour</th>\n",
       "      <th>pickup_minute</th>\n",
       "      <th>pickup_second</th>\n",
       "      <th>dropoff_hour</th>\n",
       "      <th>dropoff_minute</th>\n",
       "      <th>dropoff_second</th>\n",
       "    </tr>\n",
       "  </thead>\n",
       "  <tbody>\n",
       "    <tr>\n",
       "      <th>0</th>\n",
       "      <td>2</td>\n",
       "      <td>-73.979813</td>\n",
       "      <td>40.752529</td>\n",
       "      <td>-73.982681</td>\n",
       "      <td>40.763680</td>\n",
       "      <td>N</td>\n",
       "      <td>844</td>\n",
       "      <td>5</td>\n",
       "      <td>3</td>\n",
       "      <td>9</td>\n",
       "      <td>3</td>\n",
       "      <td>8</td>\n",
       "      <td>9</td>\n",
       "      <td>17</td>\n",
       "      <td>12</td>\n",
       "    </tr>\n",
       "    <tr>\n",
       "      <th>1</th>\n",
       "      <td>1</td>\n",
       "      <td>-73.977623</td>\n",
       "      <td>40.746296</td>\n",
       "      <td>-73.968414</td>\n",
       "      <td>40.788933</td>\n",
       "      <td>N</td>\n",
       "      <td>1001</td>\n",
       "      <td>1</td>\n",
       "      <td>1</td>\n",
       "      <td>16</td>\n",
       "      <td>40</td>\n",
       "      <td>51</td>\n",
       "      <td>16</td>\n",
       "      <td>57</td>\n",
       "      <td>32</td>\n",
       "    </tr>\n",
       "    <tr>\n",
       "      <th>2</th>\n",
       "      <td>1</td>\n",
       "      <td>-73.950699</td>\n",
       "      <td>40.779404</td>\n",
       "      <td>-73.863129</td>\n",
       "      <td>40.768608</td>\n",
       "      <td>N</td>\n",
       "      <td>1048</td>\n",
       "      <td>4</td>\n",
       "      <td>24</td>\n",
       "      <td>13</td>\n",
       "      <td>57</td>\n",
       "      <td>3</td>\n",
       "      <td>14</td>\n",
       "      <td>14</td>\n",
       "      <td>31</td>\n",
       "    </tr>\n",
       "    <tr>\n",
       "      <th>3</th>\n",
       "      <td>1</td>\n",
       "      <td>-73.984558</td>\n",
       "      <td>40.721802</td>\n",
       "      <td>-73.976753</td>\n",
       "      <td>40.752213</td>\n",
       "      <td>N</td>\n",
       "      <td>784</td>\n",
       "      <td>1</td>\n",
       "      <td>10</td>\n",
       "      <td>17</td>\n",
       "      <td>3</td>\n",
       "      <td>47</td>\n",
       "      <td>17</td>\n",
       "      <td>16</td>\n",
       "      <td>51</td>\n",
       "    </tr>\n",
       "    <tr>\n",
       "      <th>4</th>\n",
       "      <td>1</td>\n",
       "      <td>-73.967720</td>\n",
       "      <td>40.768742</td>\n",
       "      <td>-73.977173</td>\n",
       "      <td>40.789875</td>\n",
       "      <td>N</td>\n",
       "      <td>732</td>\n",
       "      <td>2</td>\n",
       "      <td>25</td>\n",
       "      <td>17</td>\n",
       "      <td>37</td>\n",
       "      <td>36</td>\n",
       "      <td>17</td>\n",
       "      <td>49</td>\n",
       "      <td>48</td>\n",
       "    </tr>\n",
       "  </tbody>\n",
       "</table>\n",
       "</div>"
      ],
      "text/plain": [
       "   passenger_count  pickup_longitude  pickup_latitude  dropoff_longitude  \\\n",
       "0                2        -73.979813        40.752529         -73.982681   \n",
       "1                1        -73.977623        40.746296         -73.968414   \n",
       "2                1        -73.950699        40.779404         -73.863129   \n",
       "3                1        -73.984558        40.721802         -73.976753   \n",
       "4                1        -73.967720        40.768742         -73.977173   \n",
       "\n",
       "   dropoff_latitude store_and_fwd_flag  trip_duration  pickup_month  \\\n",
       "0         40.763680                  N            844             5   \n",
       "1         40.788933                  N           1001             1   \n",
       "2         40.768608                  N           1048             4   \n",
       "3         40.752213                  N            784             1   \n",
       "4         40.789875                  N            732             2   \n",
       "\n",
       "   pickup_day  pickup_hour  pickup_minute  pickup_second  dropoff_hour  \\\n",
       "0           3            9              3              8             9   \n",
       "1           1           16             40             51            16   \n",
       "2          24           13             57              3            14   \n",
       "3          10           17              3             47            17   \n",
       "4          25           17             37             36            17   \n",
       "\n",
       "   dropoff_minute  dropoff_second  \n",
       "0              17              12  \n",
       "1              57              32  \n",
       "2              14              31  \n",
       "3              16              51  \n",
       "4              49              48  "
      ]
     },
     "execution_count": 462,
     "metadata": {},
     "output_type": "execute_result"
    }
   ],
   "source": [
    "train_data.head()"
   ]
  },
  {
   "cell_type": "markdown",
   "id": "d305b3e9-8810-4f46-89f7-0f898e6b6c52",
   "metadata": {},
   "source": [
    "Также хочу проверить корреляцию между часом начала поездки и окончания:"
   ]
  },
  {
   "cell_type": "code",
   "execution_count": 463,
   "id": "b9d39899-cae3-4f6d-b019-e682507dd416",
   "metadata": {},
   "outputs": [
    {
     "data": {
      "image/png": "[encoded data removed]",
      "text/plain": [
       "<Figure size 800x600 with 2 Axes>"
      ]
     },
     "metadata": {},
     "output_type": "display_data"
    }
   ],
   "source": [
    "plt.figure(figsize = (8, 6))\n",
    "sns.heatmap(train_data[['pickup_hour', 'dropoff_hour']].corr(), annot = True, cmap = 'coolwarm')\n",
    "\n",
    "plt.xlabel('pickup_hour')\n",
    "plt.ylabel('dropoff_hour')\n",
    "plt.title('Корреляция pickup_hour и dropoff_hour')\n",
    "plt.show()"
   ]
  },
  {
   "cell_type": "markdown",
   "id": "d5e57f14-3552-4ce9-88c8-9762162fd475",
   "metadata": {},
   "source": [
    "Так как корреляция между признаками сильная, удалю один из них:"
   ]
  },
  {
   "cell_type": "code",
   "execution_count": 464,
   "id": "8744404f-f703-4d74-aa44-4d367e06fd56",
   "metadata": {},
   "outputs": [],
   "source": [
    "train_data = train_data.drop(columns = ['dropoff_hour'])"
   ]
  },
  {
   "cell_type": "markdown",
   "id": "c9678994-7ed8-4721-bee0-09d895e75c75",
   "metadata": {},
   "source": [
    "Также хочу убедиться в том, что pickup_minute, pickup_second, dropoff_minute, dropoff_second не влияют на длительность поездки:"
   ]
  },
  {
   "cell_type": "code",
   "execution_count": 465,
   "id": "08479ac4-600a-4aa3-9cc0-b2952c4fcfb2",
   "metadata": {},
   "outputs": [
    {
     "data": {
      "image/png": "[encoded data removed]",
      "text/plain": [
       "<Figure size 1500x1000 with 4 Axes>"
      ]
     },
     "metadata": {},
     "output_type": "display_data"
    }
   ],
   "source": [
    "plt.figure(figsize = (15, 10)) \n",
    "\n",
    "plt.subplot(2, 2, 1)\n",
    "plt.scatter(train_data['pickup_minute'], train_data['trip_duration'], color = 'pink')\n",
    "plt.xlabel('pickup_minute')\n",
    "plt.ylabel('Длительность поездки (секунды)')\n",
    "plt.title('Зависимость длительности от минуты начала')\n",
    "\n",
    "plt.subplot(2, 2, 2)\n",
    "plt.scatter(train_data['pickup_second'], train_data['trip_duration'], color = 'pink')\n",
    "plt.xlabel('pickup_second')\n",
    "plt.ylabel('Длительность поездки (секунды)')\n",
    "plt.title('Зависимость длительности от секунды начала')\n",
    "\n",
    "plt.subplot(2, 2, 3)\n",
    "plt.scatter(train_data['dropoff_minute'], train_data['trip_duration'], color = 'skyblue')\n",
    "plt.xlabel('dropoff_minute')\n",
    "plt.ylabel('Длительность поездки (секунды)')\n",
    "plt.title('Зависимость длительности от минуты окончания')\n",
    "\n",
    "plt.subplot(2, 2, 4)\n",
    "plt.scatter(train_data['dropoff_second'], train_data['trip_duration'], color = 'skyblue')\n",
    "plt.xlabel('dropoff_second')\n",
    "plt.ylabel('Длительность поездки (секунды)')\n",
    "plt.title('Зависимость длительности от секунды окончания')\n",
    "\n",
    "plt.tight_layout()\n",
    "plt.show()"
   ]
  },
  {
   "cell_type": "markdown",
   "id": "5bd58433-a0f8-409c-9184-587a70259979",
   "metadata": {},
   "source": [
    "Видим, что данные не несут нагрузки, удаляем их:"
   ]
  },
  {
   "cell_type": "code",
   "execution_count": 466,
   "id": "e88bc8ae-7d7c-4c82-bebe-b9dfcba4c6fc",
   "metadata": {},
   "outputs": [],
   "source": [
    "train_data = train_data.drop(columns = ['pickup_minute', 'pickup_second', 'dropoff_minute', 'dropoff_second'])"
   ]
  },
  {
   "cell_type": "markdown",
   "id": "25fcf813-7db0-49b2-b3cf-af727ce78b18",
   "metadata": {},
   "source": [
    "### 4. Работа с store_and_fwd_flag (категориальная переменная) ."
   ]
  },
  {
   "cell_type": "markdown",
   "id": "7b8c788f-b5a4-479e-80b6-50cad5526163",
   "metadata": {},
   "source": [
    "Так как store_and_fwd_flag является категориальной переменной, принимающей значения 'N' и 'Y', то воспользуемся **Label Encoding** для кодирования:"
   ]
  },
  {
   "cell_type": "code",
   "execution_count": 467,
   "id": "1eb8c0c1-35b8-4d5d-bac6-9487c90f77bb",
   "metadata": {},
   "outputs": [
    {
     "name": "stdout",
     "output_type": "stream",
     "text": [
      "Соответствие кодов и значений: {'N': 0, 'Y': 1}\n"
     ]
    }
   ],
   "source": [
    "from sklearn.preprocessing import LabelEncoder\n",
    "\n",
    "encoder = LabelEncoder()\n",
    "train_data['store_and_fwd_flag_encoded'] = encoder.fit_transform(train_data['store_and_fwd_flag'])\n",
    "print(f\"Соответствие кодов и значений: {dict(zip(encoder.classes_, encoder.transform(encoder.classes_))) }\")"
   ]
  },
  {
   "cell_type": "markdown",
   "id": "de483958-b1a1-4020-8b3d-8b9034f17d0f",
   "metadata": {},
   "source": [
    "Удаляем store_and_fwd_flag:"
   ]
  },
  {
   "cell_type": "code",
   "execution_count": 468,
   "id": "1ce07e88-dc89-4af3-bd7f-1951e9802daa",
   "metadata": {},
   "outputs": [],
   "source": [
    "train_data = train_data.drop(columns = ['store_and_fwd_flag'])"
   ]
  },
  {
   "cell_type": "code",
   "execution_count": 469,
   "id": "bbd0f140-080a-4251-b930-7252b681fa73",
   "metadata": {
    "scrolled": true
   },
   "outputs": [
    {
     "data": {
      "text/html": [
       "<div>\n",
       "<style scoped>\n",
       "    .dataframe tbody tr th:only-of-type {\n",
       "        vertical-align: middle;\n",
       "    }\n",
       "\n",
       "    .dataframe tbody tr th {\n",
       "        vertical-align: top;\n",
       "    }\n",
       "\n",
       "    .dataframe thead th {\n",
       "        text-align: right;\n",
       "    }\n",
       "</style>\n",
       "<table border=\"1\" class=\"dataframe\">\n",
       "  <thead>\n",
       "    <tr style=\"text-align: right;\">\n",
       "      <th></th>\n",
       "      <th>passenger_count</th>\n",
       "      <th>pickup_longitude</th>\n",
       "      <th>pickup_latitude</th>\n",
       "      <th>dropoff_longitude</th>\n",
       "      <th>dropoff_latitude</th>\n",
       "      <th>trip_duration</th>\n",
       "      <th>pickup_month</th>\n",
       "      <th>pickup_day</th>\n",
       "      <th>pickup_hour</th>\n",
       "      <th>store_and_fwd_flag_encoded</th>\n",
       "    </tr>\n",
       "  </thead>\n",
       "  <tbody>\n",
       "    <tr>\n",
       "      <th>0</th>\n",
       "      <td>2</td>\n",
       "      <td>-73.979813</td>\n",
       "      <td>40.752529</td>\n",
       "      <td>-73.982681</td>\n",
       "      <td>40.763680</td>\n",
       "      <td>844</td>\n",
       "      <td>5</td>\n",
       "      <td>3</td>\n",
       "      <td>9</td>\n",
       "      <td>0</td>\n",
       "    </tr>\n",
       "    <tr>\n",
       "      <th>1</th>\n",
       "      <td>1</td>\n",
       "      <td>-73.977623</td>\n",
       "      <td>40.746296</td>\n",
       "      <td>-73.968414</td>\n",
       "      <td>40.788933</td>\n",
       "      <td>1001</td>\n",
       "      <td>1</td>\n",
       "      <td>1</td>\n",
       "      <td>16</td>\n",
       "      <td>0</td>\n",
       "    </tr>\n",
       "    <tr>\n",
       "      <th>2</th>\n",
       "      <td>1</td>\n",
       "      <td>-73.950699</td>\n",
       "      <td>40.779404</td>\n",
       "      <td>-73.863129</td>\n",
       "      <td>40.768608</td>\n",
       "      <td>1048</td>\n",
       "      <td>4</td>\n",
       "      <td>24</td>\n",
       "      <td>13</td>\n",
       "      <td>0</td>\n",
       "    </tr>\n",
       "    <tr>\n",
       "      <th>3</th>\n",
       "      <td>1</td>\n",
       "      <td>-73.984558</td>\n",
       "      <td>40.721802</td>\n",
       "      <td>-73.976753</td>\n",
       "      <td>40.752213</td>\n",
       "      <td>784</td>\n",
       "      <td>1</td>\n",
       "      <td>10</td>\n",
       "      <td>17</td>\n",
       "      <td>0</td>\n",
       "    </tr>\n",
       "    <tr>\n",
       "      <th>4</th>\n",
       "      <td>1</td>\n",
       "      <td>-73.967720</td>\n",
       "      <td>40.768742</td>\n",
       "      <td>-73.977173</td>\n",
       "      <td>40.789875</td>\n",
       "      <td>732</td>\n",
       "      <td>2</td>\n",
       "      <td>25</td>\n",
       "      <td>17</td>\n",
       "      <td>0</td>\n",
       "    </tr>\n",
       "  </tbody>\n",
       "</table>\n",
       "</div>"
      ],
      "text/plain": [
       "   passenger_count  pickup_longitude  pickup_latitude  dropoff_longitude  \\\n",
       "0                2        -73.979813        40.752529         -73.982681   \n",
       "1                1        -73.977623        40.746296         -73.968414   \n",
       "2                1        -73.950699        40.779404         -73.863129   \n",
       "3                1        -73.984558        40.721802         -73.976753   \n",
       "4                1        -73.967720        40.768742         -73.977173   \n",
       "\n",
       "   dropoff_latitude  trip_duration  pickup_month  pickup_day  pickup_hour  \\\n",
       "0         40.763680            844             5           3            9   \n",
       "1         40.788933           1001             1           1           16   \n",
       "2         40.768608           1048             4          24           13   \n",
       "3         40.752213            784             1          10           17   \n",
       "4         40.789875            732             2          25           17   \n",
       "\n",
       "   store_and_fwd_flag_encoded  \n",
       "0                           0  \n",
       "1                           0  \n",
       "2                           0  \n",
       "3                           0  \n",
       "4                           0  "
      ]
     },
     "execution_count": 469,
     "metadata": {},
     "output_type": "execute_result"
    }
   ],
   "source": [
    "train_data.head()"
   ]
  },
  {
   "cell_type": "markdown",
   "id": "84e4b0cc-7ccb-43e0-96ae-743fb3e36100",
   "metadata": {},
   "source": [
    "Теперь попоробуем построить модель:"
   ]
  },
  {
   "cell_type": "code",
   "execution_count": 470,
   "id": "7f9684e1-214a-476d-b106-c6f099fa9cdf",
   "metadata": {},
   "outputs": [],
   "source": [
    "from sklearn.model_selection import train_test_split\n",
    "from sklearn.linear_model import LinearRegression\n",
    "\n",
    "X = train_data[['passenger_count', 'pickup_longitude', 'pickup_latitude','dropoff_longitude', 'dropoff_latitude', \n",
    "            'pickup_month', 'pickup_day', 'pickup_hour', 'store_and_fwd_flag_encoded']]\n",
    "y = train_data['trip_duration']"
   ]
  },
  {
   "cell_type": "code",
   "execution_count": 471,
   "id": "0d3433f9-c22c-4e77-b114-05e9b102d466",
   "metadata": {},
   "outputs": [],
   "source": [
    "X_train, X_test, y_train, y_test = train_test_split(X, y, test_size = 0.2, random_state = 10)"
   ]
  },
  {
   "cell_type": "code",
   "execution_count": 472,
   "id": "392c441f-7b00-4fbf-85e1-e9158c894f34",
   "metadata": {},
   "outputs": [],
   "source": [
    "model_1 = LinearRegression()\n",
    "model_1.fit(X_train, y_train)\n",
    "y_pred = model_1.predict(X_test)"
   ]
  },
  {
   "cell_type": "code",
   "execution_count": 473,
   "id": "0f060718-5722-4a30-8343-4a87fe9e30fe",
   "metadata": {},
   "outputs": [],
   "source": [
    "from sklearn.metrics import mean_squared_error as mse\n",
    "def rmse(y, pred):\n",
    "    return np.sqrt(mse(y, pred))"
   ]
  },
  {
   "cell_type": "code",
   "execution_count": 474,
   "id": "a9fac579-6ec9-4301-b6ea-02938c1af6ac",
   "metadata": {},
   "outputs": [
    {
     "data": {
      "text/plain": [
       "400.91757353090503"
      ]
     },
     "execution_count": 474,
     "metadata": {},
     "output_type": "execute_result"
    }
   ],
   "source": [
    "rmse(y_test, y_pred)"
   ]
  },
  {
   "cell_type": "code",
   "execution_count": 475,
   "id": "a4932f22-e537-473c-a3d4-c86085360621",
   "metadata": {},
   "outputs": [
    {
     "name": "stdout",
     "output_type": "stream",
     "text": [
      "Среднее значение длительности поездки: 696.89\n"
     ]
    }
   ],
   "source": [
    "mean_trip_duration = train_data['trip_duration'].mean()\n",
    "print(f\"Среднее значение длительности поездки: {mean_trip_duration:.2f}\")"
   ]
  },
  {
   "cell_type": "markdown",
   "id": "ce14e83e-a7b3-4cfb-ba0a-32f107e7f702",
   "metadata": {},
   "source": [
    "Как видим, результат не особо хороший. Попробуем поработать с координатами."
   ]
  },
  {
   "cell_type": "markdown",
   "id": "26f948ca-fd17-4da3-986a-4eeaf0abbd63",
   "metadata": {},
   "source": [
    "### 5. Работа с координатами."
   ]
  },
  {
   "cell_type": "markdown",
   "id": "d20bbcf8-04b8-45ce-bbb6-86ee094a00fb",
   "metadata": {},
   "source": [
    "Сначаса попробую использовать легкую **формулу Евклида** для подсчета расстояния:"
   ]
  },
  {
   "cell_type": "code",
   "execution_count": 476,
   "id": "4fd18786-eb11-4828-824f-0c26de81d1b9",
   "metadata": {},
   "outputs": [],
   "source": [
    "def euclidean_distance(lon1, lat1, lon2, lat2):\n",
    "    return np.sqrt((lon2 - lon1)**2 + (lat2 - lat1)**2)\n",
    "\n",
    "train_data['distance'] = euclidean_distance(\n",
    "    train_data['pickup_longitude'], \n",
    "    train_data['pickup_latitude'], \n",
    "    train_data['dropoff_longitude'], \n",
    "    train_data['dropoff_latitude']\n",
    "  )"
   ]
  },
  {
   "cell_type": "code",
   "execution_count": 477,
   "id": "5d24ae7f-2645-44da-b35c-854555fa7dc7",
   "metadata": {},
   "outputs": [
    {
     "data": {
      "text/html": [
       "<div>\n",
       "<style scoped>\n",
       "    .dataframe tbody tr th:only-of-type {\n",
       "        vertical-align: middle;\n",
       "    }\n",
       "\n",
       "    .dataframe tbody tr th {\n",
       "        vertical-align: top;\n",
       "    }\n",
       "\n",
       "    .dataframe thead th {\n",
       "        text-align: right;\n",
       "    }\n",
       "</style>\n",
       "<table border=\"1\" class=\"dataframe\">\n",
       "  <thead>\n",
       "    <tr style=\"text-align: right;\">\n",
       "      <th></th>\n",
       "      <th>passenger_count</th>\n",
       "      <th>pickup_longitude</th>\n",
       "      <th>pickup_latitude</th>\n",
       "      <th>trip_duration</th>\n",
       "      <th>pickup_month</th>\n",
       "      <th>pickup_day</th>\n",
       "      <th>pickup_hour</th>\n",
       "      <th>store_and_fwd_flag_encoded</th>\n",
       "      <th>distance</th>\n",
       "    </tr>\n",
       "  </thead>\n",
       "  <tbody>\n",
       "    <tr>\n",
       "      <th>0</th>\n",
       "      <td>2</td>\n",
       "      <td>-73.979813</td>\n",
       "      <td>40.752529</td>\n",
       "      <td>844</td>\n",
       "      <td>5</td>\n",
       "      <td>3</td>\n",
       "      <td>9</td>\n",
       "      <td>0</td>\n",
       "      <td>0.011513</td>\n",
       "    </tr>\n",
       "    <tr>\n",
       "      <th>1</th>\n",
       "      <td>1</td>\n",
       "      <td>-73.977623</td>\n",
       "      <td>40.746296</td>\n",
       "      <td>1001</td>\n",
       "      <td>1</td>\n",
       "      <td>1</td>\n",
       "      <td>16</td>\n",
       "      <td>0</td>\n",
       "      <td>0.043620</td>\n",
       "    </tr>\n",
       "    <tr>\n",
       "      <th>2</th>\n",
       "      <td>1</td>\n",
       "      <td>-73.950699</td>\n",
       "      <td>40.779404</td>\n",
       "      <td>1048</td>\n",
       "      <td>4</td>\n",
       "      <td>24</td>\n",
       "      <td>13</td>\n",
       "      <td>0</td>\n",
       "      <td>0.088233</td>\n",
       "    </tr>\n",
       "    <tr>\n",
       "      <th>3</th>\n",
       "      <td>1</td>\n",
       "      <td>-73.984558</td>\n",
       "      <td>40.721802</td>\n",
       "      <td>784</td>\n",
       "      <td>1</td>\n",
       "      <td>10</td>\n",
       "      <td>17</td>\n",
       "      <td>0</td>\n",
       "      <td>0.031396</td>\n",
       "    </tr>\n",
       "    <tr>\n",
       "      <th>4</th>\n",
       "      <td>1</td>\n",
       "      <td>-73.967720</td>\n",
       "      <td>40.768742</td>\n",
       "      <td>732</td>\n",
       "      <td>2</td>\n",
       "      <td>25</td>\n",
       "      <td>17</td>\n",
       "      <td>0</td>\n",
       "      <td>0.023151</td>\n",
       "    </tr>\n",
       "  </tbody>\n",
       "</table>\n",
       "</div>"
      ],
      "text/plain": [
       "   passenger_count  pickup_longitude  pickup_latitude  trip_duration  \\\n",
       "0                2        -73.979813        40.752529            844   \n",
       "1                1        -73.977623        40.746296           1001   \n",
       "2                1        -73.950699        40.779404           1048   \n",
       "3                1        -73.984558        40.721802            784   \n",
       "4                1        -73.967720        40.768742            732   \n",
       "\n",
       "   pickup_month  pickup_day  pickup_hour  store_and_fwd_flag_encoded  distance  \n",
       "0             5           3            9                           0  0.011513  \n",
       "1             1           1           16                           0  0.043620  \n",
       "2             4          24           13                           0  0.088233  \n",
       "3             1          10           17                           0  0.031396  \n",
       "4             2          25           17                           0  0.023151  "
      ]
     },
     "execution_count": 477,
     "metadata": {},
     "output_type": "execute_result"
    }
   ],
   "source": [
    "train_data_1 = train_data.drop(columns = ['dropoff_longitude', 'dropoff_latitude'])\n",
    "train_data_1.head()"
   ]
  },
  {
   "cell_type": "markdown",
   "id": "acb656ed-99ff-42e7-806b-a5ceee83d4c3",
   "metadata": {},
   "source": [
    "Построим новую модель:"
   ]
  },
  {
   "cell_type": "code",
   "execution_count": 478,
   "id": "b519a9c9-bfe8-4b75-92d7-41e5f99ebd53",
   "metadata": {},
   "outputs": [
    {
     "data": {
      "text/plain": [
       "317.89048653095034"
      ]
     },
     "execution_count": 478,
     "metadata": {},
     "output_type": "execute_result"
    }
   ],
   "source": [
    "X = train_data_1[['passenger_count', 'pickup_longitude', 'pickup_latitude', 'pickup_month', 'pickup_day', 'pickup_hour', 'store_and_fwd_flag_encoded', 'distance']]\n",
    "y = train_data_1['trip_duration']\n",
    "\n",
    "X_train, X_test, y_train, y_test = train_test_split(X, y, test_size = 0.2, random_state = 10)\n",
    "\n",
    "model_2 = LinearRegression()\n",
    "model_2.fit(X_train, y_train)\n",
    "y_pred = model_2.predict(X_test)\n",
    "\n",
    "rmse(y_test, y_pred)"
   ]
  },
  {
   "cell_type": "markdown",
   "id": "f8392ca7-7f10-4f4f-bc32-07cbc5177474",
   "metadata": {},
   "source": [
    "Как видим, rmse уменьшился. Попробуем преобразовать координаты в расстояние более сложным методом, с использованием **формулы Гаверсинуса** : "
   ]
  },
  {
   "cell_type": "code",
   "execution_count": 479,
   "id": "a17a32b9-7012-4a86-a86f-cd99c340e46f",
   "metadata": {},
   "outputs": [],
   "source": [
    "import math\n",
    "\n",
    "def haversine_distance(lon1, lat1, lon2, lat2):\n",
    "  R = 6371\n",
    "\n",
    "  lon1, lat1, lon2, lat2 = map(math.radians, [lon1, lat1, lon2, lat2])\n",
    "  dlon = lon2 - lon1\n",
    "  dlat = lat2 - lat1\n",
    "  a = math.sin(dlat / 2) ** 2 + math.cos(lat1) * math.cos(lat2) * math.sin(dlon / 2) ** 2\n",
    "  c = 2 * math.atan2(math.sqrt(a), math.sqrt(1 - a))\n",
    "  distance = R * c\n",
    "  return distance\n",
    "\n",
    "train_data['distance2'] = train_data.apply(\n",
    "  lambda row: haversine_distance(\n",
    "    row['pickup_longitude'],\n",
    "    row['pickup_latitude'],\n",
    "    row['dropoff_longitude'],\n",
    "    row['dropoff_latitude']\n",
    "  ),\n",
    "  axis=1\n",
    ")"
   ]
  },
  {
   "cell_type": "code",
   "execution_count": 480,
   "id": "4f638a18-b7fe-4e47-96e1-0f3a237d5210",
   "metadata": {},
   "outputs": [
    {
     "data": {
      "text/html": [
       "<div>\n",
       "<style scoped>\n",
       "    .dataframe tbody tr th:only-of-type {\n",
       "        vertical-align: middle;\n",
       "    }\n",
       "\n",
       "    .dataframe tbody tr th {\n",
       "        vertical-align: top;\n",
       "    }\n",
       "\n",
       "    .dataframe thead th {\n",
       "        text-align: right;\n",
       "    }\n",
       "</style>\n",
       "<table border=\"1\" class=\"dataframe\">\n",
       "  <thead>\n",
       "    <tr style=\"text-align: right;\">\n",
       "      <th></th>\n",
       "      <th>passenger_count</th>\n",
       "      <th>pickup_longitude</th>\n",
       "      <th>pickup_latitude</th>\n",
       "      <th>trip_duration</th>\n",
       "      <th>pickup_month</th>\n",
       "      <th>pickup_day</th>\n",
       "      <th>pickup_hour</th>\n",
       "      <th>store_and_fwd_flag_encoded</th>\n",
       "      <th>distance2</th>\n",
       "    </tr>\n",
       "  </thead>\n",
       "  <tbody>\n",
       "    <tr>\n",
       "      <th>0</th>\n",
       "      <td>2</td>\n",
       "      <td>-73.979813</td>\n",
       "      <td>40.752529</td>\n",
       "      <td>844</td>\n",
       "      <td>5</td>\n",
       "      <td>3</td>\n",
       "      <td>9</td>\n",
       "      <td>0</td>\n",
       "      <td>1.263187</td>\n",
       "    </tr>\n",
       "    <tr>\n",
       "      <th>1</th>\n",
       "      <td>1</td>\n",
       "      <td>-73.977623</td>\n",
       "      <td>40.746296</td>\n",
       "      <td>1001</td>\n",
       "      <td>1</td>\n",
       "      <td>1</td>\n",
       "      <td>16</td>\n",
       "      <td>0</td>\n",
       "      <td>4.804012</td>\n",
       "    </tr>\n",
       "    <tr>\n",
       "      <th>2</th>\n",
       "      <td>1</td>\n",
       "      <td>-73.950699</td>\n",
       "      <td>40.779404</td>\n",
       "      <td>1048</td>\n",
       "      <td>4</td>\n",
       "      <td>24</td>\n",
       "      <td>13</td>\n",
       "      <td>0</td>\n",
       "      <td>7.471088</td>\n",
       "    </tr>\n",
       "    <tr>\n",
       "      <th>3</th>\n",
       "      <td>1</td>\n",
       "      <td>-73.984558</td>\n",
       "      <td>40.721802</td>\n",
       "      <td>784</td>\n",
       "      <td>1</td>\n",
       "      <td>10</td>\n",
       "      <td>17</td>\n",
       "      <td>0</td>\n",
       "      <td>3.444869</td>\n",
       "    </tr>\n",
       "    <tr>\n",
       "      <th>4</th>\n",
       "      <td>1</td>\n",
       "      <td>-73.967720</td>\n",
       "      <td>40.768742</td>\n",
       "      <td>732</td>\n",
       "      <td>2</td>\n",
       "      <td>25</td>\n",
       "      <td>17</td>\n",
       "      <td>0</td>\n",
       "      <td>2.481063</td>\n",
       "    </tr>\n",
       "  </tbody>\n",
       "</table>\n",
       "</div>"
      ],
      "text/plain": [
       "   passenger_count  pickup_longitude  pickup_latitude  trip_duration  \\\n",
       "0                2        -73.979813        40.752529            844   \n",
       "1                1        -73.977623        40.746296           1001   \n",
       "2                1        -73.950699        40.779404           1048   \n",
       "3                1        -73.984558        40.721802            784   \n",
       "4                1        -73.967720        40.768742            732   \n",
       "\n",
       "   pickup_month  pickup_day  pickup_hour  store_and_fwd_flag_encoded  \\\n",
       "0             5           3            9                           0   \n",
       "1             1           1           16                           0   \n",
       "2             4          24           13                           0   \n",
       "3             1          10           17                           0   \n",
       "4             2          25           17                           0   \n",
       "\n",
       "   distance2  \n",
       "0   1.263187  \n",
       "1   4.804012  \n",
       "2   7.471088  \n",
       "3   3.444869  \n",
       "4   2.481063  "
      ]
     },
     "execution_count": 480,
     "metadata": {},
     "output_type": "execute_result"
    }
   ],
   "source": [
    "train_data_2 = train_data.drop(columns = ['dropoff_longitude', 'dropoff_latitude', 'distance'])\n",
    "train_data_2.head()"
   ]
  },
  {
   "cell_type": "code",
   "execution_count": 484,
   "id": "96db5670-37bf-4c42-9b3f-87b0ba8ffcab",
   "metadata": {},
   "outputs": [
    {
     "name": "stdout",
     "output_type": "stream",
     "text": [
      "         Prediction  Target\n",
      "543411   617.143798     530\n",
      "288095   704.860382     696\n",
      "281448   638.582064     574\n",
      "885472   564.311983     742\n",
      "104858   599.558735     469\n",
      "...             ...     ...\n",
      "495480   610.905969     517\n",
      "538436   797.847107     780\n",
      "321486   698.064714     544\n",
      "17794    657.950414     744\n",
      "508118  1998.061783    1553\n",
      "\n",
      "[188341 rows x 2 columns]\n"
     ]
    }
   ],
   "source": [
    "X = train_data_2[['passenger_count', 'pickup_longitude', 'pickup_latitude', 'pickup_month', 'pickup_day', 'pickup_hour', 'store_and_fwd_flag_encoded', 'distance2']]\n",
    "y = train_data_2['trip_duration']\n",
    "\n",
    "X_train, X_test, y_train, y_test = train_test_split(X, y, test_size = 0.2, random_state = 10)\n",
    "\n",
    "model_3 = LinearRegression()\n",
    "model_3.fit(X_train, y_train)\n",
    "y_pred = model_3.predict(X_test)\n",
    "\n",
    "rmse(y_test, y_pred)\n",
    "\n",
    "results_df = pd.DataFrame({\n",
    "  'Prediction': y_pred,\n",
    "  'Target': y_test\n",
    "})\n",
    "\n",
    "print(results_df)"
   ]
  },
  {
   "cell_type": "markdown",
   "id": "6b6a8c78-14ba-4c50-a123-392338bc2a7c",
   "metadata": {},
   "source": [
    "Итак, rmse получился меньше с использованием формулы Гаверсинуса, поэтому будем использовать именно этот метод преобразования координат в расстояние."
   ]
  },
  {
   "cell_type": "code",
   "execution_count": 485,
   "id": "8c316501-91dd-4b53-97ac-ffa64ad3f448",
   "metadata": {},
   "outputs": [],
   "source": [
    "train_data = train_data.drop(columns = ['dropoff_longitude', 'dropoff_latitude', 'distance'])"
   ]
  },
  {
   "cell_type": "code",
   "execution_count": 486,
   "id": "77910871-5fe7-4764-8fef-07c7399a09b2",
   "metadata": {},
   "outputs": [
    {
     "data": {
      "text/html": [
       "<div>\n",
       "<style scoped>\n",
       "    .dataframe tbody tr th:only-of-type {\n",
       "        vertical-align: middle;\n",
       "    }\n",
       "\n",
       "    .dataframe tbody tr th {\n",
       "        vertical-align: top;\n",
       "    }\n",
       "\n",
       "    .dataframe thead th {\n",
       "        text-align: right;\n",
       "    }\n",
       "</style>\n",
       "<table border=\"1\" class=\"dataframe\">\n",
       "  <thead>\n",
       "    <tr style=\"text-align: right;\">\n",
       "      <th></th>\n",
       "      <th>passenger_count</th>\n",
       "      <th>pickup_longitude</th>\n",
       "      <th>pickup_latitude</th>\n",
       "      <th>trip_duration</th>\n",
       "      <th>pickup_month</th>\n",
       "      <th>pickup_day</th>\n",
       "      <th>pickup_hour</th>\n",
       "      <th>store_and_fwd_flag_encoded</th>\n",
       "      <th>distance</th>\n",
       "    </tr>\n",
       "  </thead>\n",
       "  <tbody>\n",
       "    <tr>\n",
       "      <th>0</th>\n",
       "      <td>2</td>\n",
       "      <td>-73.979813</td>\n",
       "      <td>40.752529</td>\n",
       "      <td>844</td>\n",
       "      <td>5</td>\n",
       "      <td>3</td>\n",
       "      <td>9</td>\n",
       "      <td>0</td>\n",
       "      <td>1.263187</td>\n",
       "    </tr>\n",
       "    <tr>\n",
       "      <th>1</th>\n",
       "      <td>1</td>\n",
       "      <td>-73.977623</td>\n",
       "      <td>40.746296</td>\n",
       "      <td>1001</td>\n",
       "      <td>1</td>\n",
       "      <td>1</td>\n",
       "      <td>16</td>\n",
       "      <td>0</td>\n",
       "      <td>4.804012</td>\n",
       "    </tr>\n",
       "    <tr>\n",
       "      <th>2</th>\n",
       "      <td>1</td>\n",
       "      <td>-73.950699</td>\n",
       "      <td>40.779404</td>\n",
       "      <td>1048</td>\n",
       "      <td>4</td>\n",
       "      <td>24</td>\n",
       "      <td>13</td>\n",
       "      <td>0</td>\n",
       "      <td>7.471088</td>\n",
       "    </tr>\n",
       "    <tr>\n",
       "      <th>3</th>\n",
       "      <td>1</td>\n",
       "      <td>-73.984558</td>\n",
       "      <td>40.721802</td>\n",
       "      <td>784</td>\n",
       "      <td>1</td>\n",
       "      <td>10</td>\n",
       "      <td>17</td>\n",
       "      <td>0</td>\n",
       "      <td>3.444869</td>\n",
       "    </tr>\n",
       "    <tr>\n",
       "      <th>4</th>\n",
       "      <td>1</td>\n",
       "      <td>-73.967720</td>\n",
       "      <td>40.768742</td>\n",
       "      <td>732</td>\n",
       "      <td>2</td>\n",
       "      <td>25</td>\n",
       "      <td>17</td>\n",
       "      <td>0</td>\n",
       "      <td>2.481063</td>\n",
       "    </tr>\n",
       "  </tbody>\n",
       "</table>\n",
       "</div>"
      ],
      "text/plain": [
       "   passenger_count  pickup_longitude  pickup_latitude  trip_duration  \\\n",
       "0                2        -73.979813        40.752529            844   \n",
       "1                1        -73.977623        40.746296           1001   \n",
       "2                1        -73.950699        40.779404           1048   \n",
       "3                1        -73.984558        40.721802            784   \n",
       "4                1        -73.967720        40.768742            732   \n",
       "\n",
       "   pickup_month  pickup_day  pickup_hour  store_and_fwd_flag_encoded  distance  \n",
       "0             5           3            9                           0  1.263187  \n",
       "1             1           1           16                           0  4.804012  \n",
       "2             4          24           13                           0  7.471088  \n",
       "3             1          10           17                           0  3.444869  \n",
       "4             2          25           17                           0  2.481063  "
      ]
     },
     "execution_count": 486,
     "metadata": {},
     "output_type": "execute_result"
    }
   ],
   "source": [
    "train_data.rename(columns = {'distance2': 'distance'}, inplace = True)\n",
    "train_data.head()"
   ]
  },
  {
   "cell_type": "markdown",
   "id": "434159c7-e686-4bb5-87a7-cbf03da2b220",
   "metadata": {},
   "source": [
    "### 6. Работа с таргетом."
   ]
  },
  {
   "cell_type": "code",
   "execution_count": 487,
   "id": "d33f4bfd-1905-462f-a6c6-08a348b634f5",
   "metadata": {},
   "outputs": [],
   "source": [
    "y = train_data['trip_duration']"
   ]
  },
  {
   "cell_type": "markdown",
   "id": "d2ca3b32-98f2-4e03-9ad4-1cda47257e11",
   "metadata": {},
   "source": [
    "Посмотрим на распределение таргета:"
   ]
  },
  {
   "cell_type": "code",
   "execution_count": 488,
   "id": "1fa3562b-05c8-41ab-a217-4620ae8a30da",
   "metadata": {},
   "outputs": [
    {
     "data": {
      "image/png": "[encoded data removed]",
      "text/plain": [
       "<Figure size 1200x500 with 1 Axes>"
      ]
     },
     "metadata": {},
     "output_type": "display_data"
    }
   ],
   "source": [
    "plt.figure(figsize = (12, 5))\n",
    "\n",
    "plt.subplot(1, 2, 1)\n",
    "sns.histplot(y, label = 'target', kde = True)\n",
    "plt.title('target')\n",
    "plt.show() "
   ]
  },
  {
   "cell_type": "markdown",
   "id": "28c9da37-c996-4c24-9dbb-f765e21deb1e",
   "metadata": {},
   "source": [
    "Как видим, с распределением надо попробовать поработать, так как оно не является норальным."
   ]
  },
  {
   "cell_type": "markdown",
   "id": "548bbe85-109c-4a17-81f5-c8a8cde1c58f",
   "metadata": {},
   "source": [
    "Попробуем **логарифмическое преобразование** и **квадратный корень**:"
   ]
  },
  {
   "cell_type": "code",
   "execution_count": 489,
   "id": "c3f5b4d3-3b74-4fff-b32f-77dd6c1b702b",
   "metadata": {},
   "outputs": [
    {
     "data": {
      "image/png": "[encoded data removed]",
      "text/plain": [
       "<Figure size 1200x500 with 2 Axes>"
      ]
     },
     "metadata": {},
     "output_type": "display_data"
    }
   ],
   "source": [
    "y_log = np.log1p(y)\n",
    "\n",
    "plt.figure(figsize = (12, 5))\n",
    "plt.subplot(1, 2, 1)\n",
    "sns.histplot(y_log, label = 'target', kde = True)\n",
    "plt.title('target (log)')\n",
    "\n",
    "y_sqrt = np.sqrt(y)\n",
    "\n",
    "plt.subplot(1, 2, 2)\n",
    "sns.histplot(y_sqrt, label = 'target', kde = True)\n",
    "plt.title('target (sqrt)')\n",
    "\n",
    "plt.show()"
   ]
  },
  {
   "cell_type": "markdown",
   "id": "db10e36a-f0a1-4909-91e1-f9def39db9fb",
   "metadata": {},
   "source": [
    "Квадратный корень дал более хорошее распределение, поэтому попробуем применить его."
   ]
  },
  {
   "cell_type": "code",
   "execution_count": 490,
   "id": "cbd067b2-2a83-4527-b5d2-a524fb1ef738",
   "metadata": {},
   "outputs": [
    {
     "data": {
      "text/plain": [
       "327.6977691740017"
      ]
     },
     "execution_count": 490,
     "metadata": {},
     "output_type": "execute_result"
    }
   ],
   "source": [
    "X = train_data[['passenger_count', 'pickup_longitude', 'pickup_latitude', 'pickup_month', 'pickup_day', 'pickup_hour', 'store_and_fwd_flag_encoded', 'distance']]\n",
    "\n",
    "X_train, X_test, y_train, y_test = train_test_split(X, y, test_size = 0.2, random_state = 10)\n",
    "\n",
    "model_4 = LinearRegression()\n",
    "model_4.fit(X_train, np.sqrt(y_train))\n",
    "y_pred_sqrt = model_4.predict(X_test)\n",
    "y_pred = np.square(y_pred_sqrt)\n",
    "\n",
    "rmse(y_test, y_pred)"
   ]
  },
  {
   "cell_type": "markdown",
   "id": "a91ad243-c0d3-4476-aead-0b3c0c96e1f4",
   "metadata": {},
   "source": [
    "Как видим, rmse ухудшилось, значит эти изменения применять не будем."
   ]
  },
  {
   "cell_type": "markdown",
   "id": "b3aece0e-dd3c-46ac-ae7c-1fd3eed63dea",
   "metadata": {},
   "source": [
    "### 7. Регуляризация."
   ]
  },
  {
   "cell_type": "markdown",
   "id": "e6d5e1ce-dcec-49e3-a8d4-fe1a64da4519",
   "metadata": {},
   "source": [
    "Приводим признаки к одному масштабу с помощью **Z-нормализации**:"
   ]
  },
  {
   "cell_type": "code",
   "execution_count": 491,
   "id": "5c9335cf-29b6-44a9-9b1d-bce6b3f61136",
   "metadata": {},
   "outputs": [],
   "source": [
    "X = train_data[['passenger_count', 'pickup_longitude', 'pickup_latitude', 'pickup_month', 'pickup_day', 'pickup_hour', 'store_and_fwd_flag_encoded', 'distance']]\n",
    "y = train_data['trip_duration']\n",
    "\n",
    "X_train, X_test, y_train, y_test = train_test_split(X, y, test_size = 0.2, random_state = 10)\n",
    "\n",
    "from sklearn.preprocessing import StandardScaler\n",
    "\n",
    "scaler = StandardScaler()\n",
    "X_train = scaler.fit_transform(X_train)\n",
    "X_test = scaler.transform(X_test)"
   ]
  },
  {
   "cell_type": "markdown",
   "id": "39c043ed-adee-4029-88cb-84286e264621",
   "metadata": {},
   "source": [
    "Используем **Ridge**:"
   ]
  },
  {
   "cell_type": "code",
   "execution_count": 492,
   "id": "4e157c0e-6556-439d-a266-39cf842aeeac",
   "metadata": {},
   "outputs": [
    {
     "data": {
      "text/plain": [
       "317.0544263359737"
      ]
     },
     "execution_count": 492,
     "metadata": {},
     "output_type": "execute_result"
    }
   ],
   "source": [
    "from sklearn.linear_model import Ridge\n",
    "\n",
    "model_5 = Ridge(\n",
    "    alpha=4,\n",
    "    fit_intercept=True,\n",
    "    max_iter=100,\n",
    "    tol=1e-4,\n",
    "    solver='auto'\n",
    ")\n",
    "\n",
    "model_5.fit(X_train, y_train)\n",
    "y_pred = model_5.predict(X_test)\n",
    "\n",
    "rmse(y_test, y_pred)"
   ]
  },
  {
   "cell_type": "markdown",
   "id": "c09f7246-190e-477a-93c7-9080547d6040",
   "metadata": {},
   "source": [
    "Улучшение RMSE не последовало. Попробуем использовать **Lasso**:"
   ]
  },
  {
   "cell_type": "code",
   "execution_count": 493,
   "id": "ab5d0dde-ce68-41e3-b925-e16e4a0f6731",
   "metadata": {},
   "outputs": [
    {
     "data": {
      "text/plain": [
       "317.08260061052573"
      ]
     },
     "execution_count": 493,
     "metadata": {},
     "output_type": "execute_result"
    }
   ],
   "source": [
    "from sklearn.linear_model import Lasso\n",
    "\n",
    "model_6 = Lasso(\n",
    "    alpha=0.1,\n",
    "    fit_intercept=True,\n",
    "    max_iter=100,\n",
    "    tol=1e-4,\n",
    "    precompute=True,\n",
    "    warm_start=False,\n",
    "    positive=False\n",
    ")\n",
    "\n",
    "model_6.fit(X_train, y_train)\n",
    "y_pred = model_6.predict(X_test)\n",
    "\n",
    "rmse(y_test, y_pred)"
   ]
  },
  {
   "cell_type": "markdown",
   "id": "1d7d14e7-5d8c-428b-9fde-d2c7270b7e23",
   "metadata": {},
   "source": [
    "Аналогично. Используем **ElasticNet**:"
   ]
  },
  {
   "cell_type": "code",
   "execution_count": 494,
   "id": "a167670c-561c-4c95-8d58-fe53f2b80e9b",
   "metadata": {},
   "outputs": [
    {
     "data": {
      "text/plain": [
       "317.05441922548596"
      ]
     },
     "execution_count": 494,
     "metadata": {},
     "output_type": "execute_result"
    }
   ],
   "source": [
    "from sklearn.linear_model import ElasticNet\n",
    "\n",
    "model_7 = ElasticNet(\n",
    "    alpha=0.001,\n",
    "    l1_ratio=1.0,\n",
    "    fit_intercept=True,\n",
    "    max_iter=100,\n",
    "    tol=1e-4,\n",
    "    precompute=True,\n",
    "    warm_start=False,\n",
    "    positive=False\n",
    ")\n",
    "\n",
    "model_7.fit(X_train, y_train)\n",
    "y_pred = model_7.predict(X_test)\n",
    "\n",
    "rmse(y_test, y_pred)"
   ]
  },
  {
   "cell_type": "markdown",
   "id": "f72a311b-9155-44fd-a025-b3ee81b7eb9d",
   "metadata": {},
   "source": [
    "В итоге, ни одна из регуляризаций не улучшили результат."
   ]
  },
  {
   "cell_type": "markdown",
   "id": "09c5c0ad-4f46-4b55-813b-be4b532063de",
   "metadata": {},
   "source": [
    "### 8. Работа с test.cvs и sample_submission.cvs"
   ]
  },
  {
   "cell_type": "code",
   "execution_count": 495,
   "id": "b63f734b-193d-4e12-8f19-65159b1f6b1b",
   "metadata": {},
   "outputs": [],
   "source": [
    "test_data = pd.read_csv('test.csv')"
   ]
  },
  {
   "cell_type": "code",
   "execution_count": 496,
   "id": "a7ed897e-ce13-4e9e-abca-d47df6285d14",
   "metadata": {},
   "outputs": [],
   "source": [
    "test_data = test_data.drop(columns = ['id', 'vendor_id'])"
   ]
  },
  {
   "cell_type": "code",
   "execution_count": 497,
   "id": "13e991d3-f30c-4a90-be2c-ae845f88a8cd",
   "metadata": {},
   "outputs": [],
   "source": [
    "test_data['pickup_datetime'] = pd.to_datetime(test_data['pickup_datetime'])"
   ]
  },
  {
   "cell_type": "code",
   "execution_count": 498,
   "id": "76c2b92b-f4fa-4043-9b6b-613798762364",
   "metadata": {},
   "outputs": [],
   "source": [
    "test_data['pickup_month'] = test_data['pickup_datetime'].dt.month\n",
    "test_data['pickup_day'] = test_data['pickup_datetime'].dt.day\n",
    "test_data['pickup_hour'] = test_data['pickup_datetime'].dt.hour"
   ]
  },
  {
   "cell_type": "code",
   "execution_count": 499,
   "id": "9c46ccd9-32d2-4343-a9c8-73b1f930e013",
   "metadata": {},
   "outputs": [],
   "source": [
    "test_data = test_data.drop(columns = ['pickup_datetime'])"
   ]
  },
  {
   "cell_type": "code",
   "execution_count": 500,
   "id": "abef79be-f45a-49e6-a9de-f88b3cef4067",
   "metadata": {},
   "outputs": [],
   "source": [
    "encoder = LabelEncoder()\n",
    "test_data['store_and_fwd_flag_encoded'] = encoder.fit_transform(test_data['store_and_fwd_flag'])"
   ]
  },
  {
   "cell_type": "code",
   "execution_count": 501,
   "id": "8dcc3423-59c1-4f8c-8045-7fcadd9568a4",
   "metadata": {},
   "outputs": [],
   "source": [
    "test_data = test_data.drop(columns = ['store_and_fwd_flag'])"
   ]
  },
  {
   "cell_type": "code",
   "execution_count": 502,
   "id": "995c0305-d0b9-4aff-a806-936091dfb6bf",
   "metadata": {},
   "outputs": [],
   "source": [
    "import math\n",
    "\n",
    "def haversine_distance(lon1, lat1, lon2, lat2):\n",
    "  R = 6371\n",
    "\n",
    "  lon1, lat1, lon2, lat2 = map(math.radians, [lon1, lat1, lon2, lat2])\n",
    "  dlon = lon2 - lon1\n",
    "  dlat = lat2 - lat1\n",
    "  a = math.sin(dlat / 2) ** 2 + math.cos(lat1) * math.cos(lat2) * math.sin(dlon / 2) ** 2\n",
    "  c = 2 * math.atan2(math.sqrt(a), math.sqrt(1 - a))\n",
    "  distance = R * c\n",
    "  return distance\n",
    "\n",
    "test_data['distance2'] = test_data.apply(\n",
    "  lambda row: haversine_distance(\n",
    "    row['pickup_longitude'],\n",
    "    row['pickup_latitude'],\n",
    "    row['dropoff_longitude'],\n",
    "    row['dropoff_latitude']\n",
    "  ),\n",
    "  axis=1\n",
    ")"
   ]
  },
  {
   "cell_type": "code",
   "execution_count": 503,
   "id": "3297f86c-3a19-4207-9ac8-f4bcd4fa2fdf",
   "metadata": {},
   "outputs": [],
   "source": [
    "test_data = test_data.drop(columns = ['dropoff_longitude', 'dropoff_latitude'])"
   ]
  },
  {
   "cell_type": "code",
   "execution_count": 504,
   "id": "98ccf743-531f-4ecd-8cff-af5002b13b71",
   "metadata": {},
   "outputs": [
    {
     "data": {
      "text/html": [
       "<div>\n",
       "<style scoped>\n",
       "    .dataframe tbody tr th:only-of-type {\n",
       "        vertical-align: middle;\n",
       "    }\n",
       "\n",
       "    .dataframe tbody tr th {\n",
       "        vertical-align: top;\n",
       "    }\n",
       "\n",
       "    .dataframe thead th {\n",
       "        text-align: right;\n",
       "    }\n",
       "</style>\n",
       "<table border=\"1\" class=\"dataframe\">\n",
       "  <thead>\n",
       "    <tr style=\"text-align: right;\">\n",
       "      <th></th>\n",
       "      <th>passenger_count</th>\n",
       "      <th>pickup_longitude</th>\n",
       "      <th>pickup_latitude</th>\n",
       "      <th>pickup_month</th>\n",
       "      <th>pickup_day</th>\n",
       "      <th>pickup_hour</th>\n",
       "      <th>store_and_fwd_flag_encoded</th>\n",
       "      <th>distance2</th>\n",
       "    </tr>\n",
       "  </thead>\n",
       "  <tbody>\n",
       "    <tr>\n",
       "      <th>0</th>\n",
       "      <td>1</td>\n",
       "      <td>-73.985611</td>\n",
       "      <td>40.735943</td>\n",
       "      <td>6</td>\n",
       "      <td>8</td>\n",
       "      <td>7</td>\n",
       "      <td>0</td>\n",
       "      <td>2.763050</td>\n",
       "    </tr>\n",
       "    <tr>\n",
       "      <th>1</th>\n",
       "      <td>1</td>\n",
       "      <td>-73.978394</td>\n",
       "      <td>40.764351</td>\n",
       "      <td>4</td>\n",
       "      <td>3</td>\n",
       "      <td>12</td>\n",
       "      <td>0</td>\n",
       "      <td>1.959178</td>\n",
       "    </tr>\n",
       "    <tr>\n",
       "      <th>2</th>\n",
       "      <td>5</td>\n",
       "      <td>-73.989059</td>\n",
       "      <td>40.744389</td>\n",
       "      <td>6</td>\n",
       "      <td>5</td>\n",
       "      <td>2</td>\n",
       "      <td>0</td>\n",
       "      <td>1.404772</td>\n",
       "    </tr>\n",
       "    <tr>\n",
       "      <th>3</th>\n",
       "      <td>2</td>\n",
       "      <td>-73.990326</td>\n",
       "      <td>40.731136</td>\n",
       "      <td>5</td>\n",
       "      <td>5</td>\n",
       "      <td>17</td>\n",
       "      <td>0</td>\n",
       "      <td>1.978660</td>\n",
       "    </tr>\n",
       "    <tr>\n",
       "      <th>4</th>\n",
       "      <td>4</td>\n",
       "      <td>-73.789497</td>\n",
       "      <td>40.646675</td>\n",
       "      <td>5</td>\n",
       "      <td>12</td>\n",
       "      <td>17</td>\n",
       "      <td>0</td>\n",
       "      <td>20.837745</td>\n",
       "    </tr>\n",
       "  </tbody>\n",
       "</table>\n",
       "</div>"
      ],
      "text/plain": [
       "   passenger_count  pickup_longitude  pickup_latitude  pickup_month  \\\n",
       "0                1        -73.985611        40.735943             6   \n",
       "1                1        -73.978394        40.764351             4   \n",
       "2                5        -73.989059        40.744389             6   \n",
       "3                2        -73.990326        40.731136             5   \n",
       "4                4        -73.789497        40.646675             5   \n",
       "\n",
       "   pickup_day  pickup_hour  store_and_fwd_flag_encoded  distance2  \n",
       "0           8            7                           0   2.763050  \n",
       "1           3           12                           0   1.959178  \n",
       "2           5            2                           0   1.404772  \n",
       "3           5           17                           0   1.978660  \n",
       "4          12           17                           0  20.837745  "
      ]
     },
     "execution_count": 504,
     "metadata": {},
     "output_type": "execute_result"
    }
   ],
   "source": [
    "test_data.head()"
   ]
  },
  {
   "cell_type": "markdown",
   "id": "727a2674-647a-4cc7-a0ee-926729ebdcf3",
   "metadata": {},
   "source": [
    "Все преобразования сделаны. Приступаем к работе с моделью."
   ]
  },
  {
   "cell_type": "code",
   "execution_count": 505,
   "id": "3c103c6b-822c-40ad-a7cc-ae935867f323",
   "metadata": {},
   "outputs": [],
   "source": [
    "submission = pd.read_csv('sample_submission.csv')"
   ]
  },
  {
   "cell_type": "code",
   "execution_count": 510,
   "id": "a0b47d09-aa2d-4655-a477-a24adca0af3e",
   "metadata": {},
   "outputs": [
    {
     "data": {
      "text/plain": [
       "730.907760339793"
      ]
     },
     "execution_count": 510,
     "metadata": {},
     "output_type": "execute_result"
    }
   ],
   "source": [
    "X = test_data[['passenger_count', 'pickup_longitude', 'pickup_latitude', 'pickup_month', 'pickup_day', 'pickup_hour', 'store_and_fwd_flag_encoded', 'distance2']]\n",
    "y = submission['trip_duration']\n",
    "\n",
    "y_pred = model_3.predict(X)\n",
    "\n",
    "rmse(y, y_pred)"
   ]
  },
  {
   "cell_type": "code",
   "execution_count": 509,
   "id": "7a2d9cfb-158f-4dc6-8f84-e3eedeb52978",
   "metadata": {},
   "outputs": [],
   "source": [
    "submission_df = pd.DataFrame({'Id': submission['id'], 'trip_duration': y_pred}) \n",
    "submission_df.to_csv('submission.csv', index = False)"
   ]
  }
 ],
 "metadata": {
  "kernelspec": {
   "display_name": "Python 3 (ipykernel)",
   "language": "python",
   "name": "python3"
  },
  "language_info": {
   "codemirror_mode": {
    "name": "ipython",
    "version": 3
   },
   "file_extension": ".py",
   "mimetype": "text/x-python",
   "name": "python",
   "nbconvert_exporter": "python",
   "pygments_lexer": "ipython3",
   "version": "3.12.4"
  }
 },
 "nbformat": 4,
 "nbformat_minor": 5
}
